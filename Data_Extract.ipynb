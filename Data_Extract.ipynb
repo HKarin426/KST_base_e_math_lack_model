{
 "cells": [
  {
   "cell_type": "code",
   "execution_count": 1,
   "metadata": {},
   "outputs": [],
   "source": [
    "import os\n",
    "import json\n",
    "import pandas as pd\n",
    "from glob import glob"
   ]
  },
  {
   "cell_type": "code",
   "execution_count": 2,
   "metadata": {},
   "outputs": [],
   "source": [
    "base_dir = r'D:\\Middleproject\\수학분야 학습자 역량 측정 데이터\\Training\\1학년'\n",
    "skill_eval_folders = [f'실력평가{str(i).zfill(3)}' for i in range(1, 193)]"
   ]
  },
  {
   "cell_type": "code",
   "execution_count": 3,
   "metadata": {},
   "outputs": [],
   "source": [
    "# 각 폴더에서 JSON 파일을 읽어 리스트로 반환하는 함수\n",
    "def read_json_files(folder_path):\n",
    "    data = []\n",
    "    for file_name in os.listdir(folder_path):\n",
    "        if file_name.endswith('.json'):\n",
    "            file_path = os.path.join(folder_path, file_name)\n",
    "            with open(file_path, 'r', encoding='utf-8') as f:\n",
    "                for line in f:\n",
    "                    data.append(json.loads(line))\n",
    "    return data\n",
    "\n",
    "# 데이터 프레임을 병합하는 함수\n",
    "def merge_data_from_folders(folders):\n",
    "    all_data = []\n",
    "    for folder in folders:\n",
    "        skill_eval_folder = os.path.join(base_dir, folder)\n",
    "        \n",
    "        # 하위 폴더 경로 정의\n",
    "        subfolders = {\n",
    "            '1_Question Correct Answer Table': os.path.join(skill_eval_folder, '1_문항정오답표'),\n",
    "            '2_Question IRT': os.path.join(skill_eval_folder, '2_문항IRT'),\n",
    "            '3_Test-Taker IRT': os.path.join(skill_eval_folder, '3_응시자IRT')\n",
    "        }\n",
    "        \n",
    "        # JSON 파일 읽기\n",
    "        qa_data = read_json_files(subfolders['1_Question Correct Answer Table'])\n",
    "        irt_data = read_json_files(subfolders['2_Question IRT'])\n",
    "        taker_irt_data = read_json_files(subfolders['3_Test-Taker IRT'])\n",
    "        \n",
    "        # 데이터 프레임 생성\n",
    "        qa_df = pd.DataFrame(qa_data)\n",
    "        irt_df = pd.DataFrame(irt_data)\n",
    "        taker_irt_df = pd.DataFrame(taker_irt_data)\n",
    "        \n",
    "        # 데이터 프레임을 learnerID와 testID로 병합\n",
    "        merged_df = pd.merge(qa_df, irt_df, on=['testID', 'assessmentItemID'], how='left')\n",
    "        merged_df = pd.merge(merged_df, taker_irt_df, on=['learnerID', 'testID'], how='left')\n",
    "        \n",
    "        all_data.append(merged_df)\n",
    "    \n",
    "    # 모든 데이터 프레임을 하나로 병합\n",
    "    final_df = pd.concat(all_data, ignore_index=True)\n",
    "    return final_df"
   ]
  },
  {
   "cell_type": "code",
   "execution_count": 4,
   "metadata": {},
   "outputs": [],
   "source": [
    "# 모든 평가 폴더에서 데이터 읽기 및 병합\n",
    "combined_df = merge_data_from_folders(skill_eval_folders)"
   ]
  }
 ],
 "metadata": {
  "kernelspec": {
   "display_name": "base",
   "language": "python",
   "name": "python3"
  },
  "language_info": {
   "codemirror_mode": {
    "name": "ipython",
    "version": 3
   },
   "file_extension": ".py",
   "mimetype": "text/x-python",
   "name": "python",
   "nbconvert_exporter": "python",
   "pygments_lexer": "ipython3",
   "version": "3.11.7"
  }
 },
 "nbformat": 4,
 "nbformat_minor": 2
}
